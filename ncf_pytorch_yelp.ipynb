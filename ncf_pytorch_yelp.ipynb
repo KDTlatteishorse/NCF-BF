{
 "cells": [
  {
   "cell_type": "markdown",
   "metadata": {},
   "source": [
    "# Import Libraries"
   ]
  },
  {
   "cell_type": "code",
   "execution_count": 1,
   "metadata": {},
   "outputs": [],
   "source": [
    "import os\n",
    "os.environ[\"PYTORCH_ENABLE_MPS_FALLBACK\"] = \"1\"\n",
    "import time\n",
    "import random\n",
    "random.seed(42)\n",
    "import numpy as np\n",
    "import pandas as pd\n",
    "import warnings\n",
    "warnings.filterwarnings('ignore')\n",
    "from tqdm.auto import tqdm\n",
    "\n",
    "import torch\n",
    "import torch.nn as nn\n",
    "import torch.optim as optim\n",
    "from torch.utils.data import DataLoader\n",
    "\n",
    "# 디바이스 선택 코드\n",
    "if torch.cuda.is_available():\n",
    "    # CUDA(GPU) 사용 가능 여부 확인\n",
    "    device = torch.device(\"cuda\")\n",
    "elif torch.backends.mps.is_available():\n",
    "    # MPS(Metal Performance Shaders) 사용 가능 여부 확인\n",
    "    device = torch.device(\"mps\")\n",
    "else:\n",
    "    # CUDA와 MPS 모두 없으면 CPU 사용\n",
    "    device = torch.device(\"cpu\")"
   ]
  },
  {
   "cell_type": "markdown",
   "metadata": {},
   "source": [
    "# Data Load"
   ]
  },
  {
   "cell_type": "code",
   "execution_count": 2,
   "metadata": {},
   "outputs": [
    {
     "data": {
      "text/html": [
       "<div>\n",
       "<style scoped>\n",
       "    .dataframe tbody tr th:only-of-type {\n",
       "        vertical-align: middle;\n",
       "    }\n",
       "\n",
       "    .dataframe tbody tr th {\n",
       "        vertical-align: top;\n",
       "    }\n",
       "\n",
       "    .dataframe thead th {\n",
       "        text-align: right;\n",
       "    }\n",
       "</style>\n",
       "<table border=\"1\" class=\"dataframe\">\n",
       "  <thead>\n",
       "    <tr style=\"text-align: right;\">\n",
       "      <th></th>\n",
       "      <th>business_id</th>\n",
       "      <th>name</th>\n",
       "      <th>address</th>\n",
       "      <th>city</th>\n",
       "      <th>state</th>\n",
       "      <th>postal_code</th>\n",
       "      <th>latitude</th>\n",
       "      <th>longitude</th>\n",
       "      <th>stars</th>\n",
       "      <th>review_count</th>\n",
       "      <th>is_open</th>\n",
       "      <th>attributes</th>\n",
       "      <th>categories</th>\n",
       "      <th>hours</th>\n",
       "    </tr>\n",
       "  </thead>\n",
       "  <tbody>\n",
       "    <tr>\n",
       "      <th>0</th>\n",
       "      <td>Pns2l4eNsfO8kk83dixA6A</td>\n",
       "      <td>Abby Rappoport, LAC, CMQ</td>\n",
       "      <td>1616 Chapala St, Ste 2</td>\n",
       "      <td>Santa Barbara</td>\n",
       "      <td>CA</td>\n",
       "      <td>93101</td>\n",
       "      <td>34.426679</td>\n",
       "      <td>-119.711197</td>\n",
       "      <td>5.0</td>\n",
       "      <td>7</td>\n",
       "      <td>0</td>\n",
       "      <td>{'ByAppointmentOnly': 'True'}</td>\n",
       "      <td>Doctors, Traditional Chinese Medicine, Naturop...</td>\n",
       "      <td>None</td>\n",
       "    </tr>\n",
       "    <tr>\n",
       "      <th>1</th>\n",
       "      <td>mpf3x-BjTdTEA3yCZrAYPw</td>\n",
       "      <td>The UPS Store</td>\n",
       "      <td>87 Grasso Plaza Shopping Center</td>\n",
       "      <td>Affton</td>\n",
       "      <td>MO</td>\n",
       "      <td>63123</td>\n",
       "      <td>38.551126</td>\n",
       "      <td>-90.335695</td>\n",
       "      <td>3.0</td>\n",
       "      <td>15</td>\n",
       "      <td>1</td>\n",
       "      <td>{'BusinessAcceptsCreditCards': 'True'}</td>\n",
       "      <td>Shipping Centers, Local Services, Notaries, Ma...</td>\n",
       "      <td>{'Monday': '0:0-0:0', 'Tuesday': '8:0-18:30', ...</td>\n",
       "    </tr>\n",
       "    <tr>\n",
       "      <th>2</th>\n",
       "      <td>tUFrWirKiKi_TAnsVWINQQ</td>\n",
       "      <td>Target</td>\n",
       "      <td>5255 E Broadway Blvd</td>\n",
       "      <td>Tucson</td>\n",
       "      <td>AZ</td>\n",
       "      <td>85711</td>\n",
       "      <td>32.223236</td>\n",
       "      <td>-110.880452</td>\n",
       "      <td>3.5</td>\n",
       "      <td>22</td>\n",
       "      <td>0</td>\n",
       "      <td>{'BikeParking': 'True', 'BusinessAcceptsCredit...</td>\n",
       "      <td>Department Stores, Shopping, Fashion, Home &amp; G...</td>\n",
       "      <td>{'Monday': '8:0-22:0', 'Tuesday': '8:0-22:0', ...</td>\n",
       "    </tr>\n",
       "  </tbody>\n",
       "</table>\n",
       "</div>"
      ],
      "text/plain": [
       "              business_id                      name  \\\n",
       "0  Pns2l4eNsfO8kk83dixA6A  Abby Rappoport, LAC, CMQ   \n",
       "1  mpf3x-BjTdTEA3yCZrAYPw             The UPS Store   \n",
       "2  tUFrWirKiKi_TAnsVWINQQ                    Target   \n",
       "\n",
       "                           address           city state postal_code  \\\n",
       "0           1616 Chapala St, Ste 2  Santa Barbara    CA       93101   \n",
       "1  87 Grasso Plaza Shopping Center         Affton    MO       63123   \n",
       "2             5255 E Broadway Blvd         Tucson    AZ       85711   \n",
       "\n",
       "    latitude   longitude  stars  review_count  is_open  \\\n",
       "0  34.426679 -119.711197    5.0             7        0   \n",
       "1  38.551126  -90.335695    3.0            15        1   \n",
       "2  32.223236 -110.880452    3.5            22        0   \n",
       "\n",
       "                                          attributes  \\\n",
       "0                      {'ByAppointmentOnly': 'True'}   \n",
       "1             {'BusinessAcceptsCreditCards': 'True'}   \n",
       "2  {'BikeParking': 'True', 'BusinessAcceptsCredit...   \n",
       "\n",
       "                                          categories  \\\n",
       "0  Doctors, Traditional Chinese Medicine, Naturop...   \n",
       "1  Shipping Centers, Local Services, Notaries, Ma...   \n",
       "2  Department Stores, Shopping, Fashion, Home & G...   \n",
       "\n",
       "                                               hours  \n",
       "0                                               None  \n",
       "1  {'Monday': '0:0-0:0', 'Tuesday': '8:0-18:30', ...  \n",
       "2  {'Monday': '8:0-22:0', 'Tuesday': '8:0-22:0', ...  "
      ]
     },
     "execution_count": 2,
     "metadata": {},
     "output_type": "execute_result"
    }
   ],
   "source": [
    "# 파일 경로 설정\n",
    "business_path = 'data/yelp_academic_dataset_business.json'\n",
    "\n",
    "# JSON 파일에서 일부 데이터만 읽기\n",
    "n_lines = 3  # 읽고자 하는 줄 수\n",
    "\n",
    "# 줄 단위로 읽고 필요한 만큼만 데이터프레임으로 변환\n",
    "with open(business_path, 'r') as file:\n",
    "    # 필요한 줄 수만큼 JSON 읽기\n",
    "    lines = [file.readline() for _ in range(n_lines)]\n",
    "\n",
    "# 읽은 줄을 DataFrame으로 변환\n",
    "business = pd.DataFrame([pd.read_json(line, lines=False, typ='series') for line in lines])\n",
    "\n",
    "# 결과 확인\n",
    "business.head(3)"
   ]
  },
  {
   "cell_type": "code",
   "execution_count": 3,
   "metadata": {},
   "outputs": [
    {
     "data": {
      "text/html": [
       "<div>\n",
       "<style scoped>\n",
       "    .dataframe tbody tr th:only-of-type {\n",
       "        vertical-align: middle;\n",
       "    }\n",
       "\n",
       "    .dataframe tbody tr th {\n",
       "        vertical-align: top;\n",
       "    }\n",
       "\n",
       "    .dataframe thead th {\n",
       "        text-align: right;\n",
       "    }\n",
       "</style>\n",
       "<table border=\"1\" class=\"dataframe\">\n",
       "  <thead>\n",
       "    <tr style=\"text-align: right;\">\n",
       "      <th></th>\n",
       "      <th>business_id</th>\n",
       "      <th>date</th>\n",
       "    </tr>\n",
       "  </thead>\n",
       "  <tbody>\n",
       "    <tr>\n",
       "      <th>0</th>\n",
       "      <td>---kPU91CF4Lq2-WlRu9Lw</td>\n",
       "      <td>2020-03-13 21:10:56, 2020-06-02 22:18:06, 2020...</td>\n",
       "    </tr>\n",
       "    <tr>\n",
       "      <th>1</th>\n",
       "      <td>--0iUa4sNDFiZFrAdIWhZQ</td>\n",
       "      <td>2010-09-13 21:43:09, 2011-05-04 23:08:15, 2011...</td>\n",
       "    </tr>\n",
       "    <tr>\n",
       "      <th>2</th>\n",
       "      <td>--30_8IhuyMHbSOcNWd6DQ</td>\n",
       "      <td>2013-06-14 23:29:17, 2014-08-13 23:20:22</td>\n",
       "    </tr>\n",
       "  </tbody>\n",
       "</table>\n",
       "</div>"
      ],
      "text/plain": [
       "              business_id                                               date\n",
       "0  ---kPU91CF4Lq2-WlRu9Lw  2020-03-13 21:10:56, 2020-06-02 22:18:06, 2020...\n",
       "1  --0iUa4sNDFiZFrAdIWhZQ  2010-09-13 21:43:09, 2011-05-04 23:08:15, 2011...\n",
       "2  --30_8IhuyMHbSOcNWd6DQ           2013-06-14 23:29:17, 2014-08-13 23:20:22"
      ]
     },
     "execution_count": 3,
     "metadata": {},
     "output_type": "execute_result"
    }
   ],
   "source": [
    "# 파일 경로 설정\n",
    "checkin_path = 'data/yelp_academic_dataset_checkin.json'\n",
    "\n",
    "# JSON 파일에서 일부 데이터만 읽기\n",
    "n_lines = 3  # 읽고자 하는 줄 수\n",
    "\n",
    "# 줄 단위로 읽고 필요한 만큼만 데이터프레임으로 변환\n",
    "with open(checkin_path, 'r') as file:\n",
    "    # 필요한 줄 수만큼 JSON 읽기\n",
    "    lines = [file.readline() for _ in range(n_lines)]\n",
    "\n",
    "# 읽은 줄을 DataFrame으로 변환\n",
    "checkin = pd.DataFrame([pd.read_json(line, lines=False, typ='series') for line in lines])\n",
    "\n",
    "# 결과 확인\n",
    "checkin.head(3)"
   ]
  },
  {
   "cell_type": "code",
   "execution_count": 4,
   "metadata": {},
   "outputs": [
    {
     "data": {
      "text/html": [
       "<div>\n",
       "<style scoped>\n",
       "    .dataframe tbody tr th:only-of-type {\n",
       "        vertical-align: middle;\n",
       "    }\n",
       "\n",
       "    .dataframe tbody tr th {\n",
       "        vertical-align: top;\n",
       "    }\n",
       "\n",
       "    .dataframe thead th {\n",
       "        text-align: right;\n",
       "    }\n",
       "</style>\n",
       "<table border=\"1\" class=\"dataframe\">\n",
       "  <thead>\n",
       "    <tr style=\"text-align: right;\">\n",
       "      <th></th>\n",
       "      <th>review_id</th>\n",
       "      <th>user_id</th>\n",
       "      <th>business_id</th>\n",
       "      <th>stars</th>\n",
       "      <th>useful</th>\n",
       "      <th>funny</th>\n",
       "      <th>cool</th>\n",
       "      <th>text</th>\n",
       "      <th>date</th>\n",
       "    </tr>\n",
       "  </thead>\n",
       "  <tbody>\n",
       "    <tr>\n",
       "      <th>0</th>\n",
       "      <td>KU_O5udG6zpxOg-VcAEodg</td>\n",
       "      <td>mh_-eMZ6K5RLWhZyISBhwA</td>\n",
       "      <td>XQfwVwDr-v0ZS3_CbbE5Xw</td>\n",
       "      <td>3.0</td>\n",
       "      <td>0</td>\n",
       "      <td>0</td>\n",
       "      <td>0</td>\n",
       "      <td>If you decide to eat here, just be aware it is...</td>\n",
       "      <td>2018-07-07 22:09:11</td>\n",
       "    </tr>\n",
       "    <tr>\n",
       "      <th>1</th>\n",
       "      <td>BiTunyQ73aT9WBnpR9DZGw</td>\n",
       "      <td>OyoGAe7OKpv6SyGZT5g77Q</td>\n",
       "      <td>7ATYjTIgM3jUlt4UM3IypQ</td>\n",
       "      <td>5.0</td>\n",
       "      <td>1</td>\n",
       "      <td>0</td>\n",
       "      <td>1</td>\n",
       "      <td>I've taken a lot of spin classes over the year...</td>\n",
       "      <td>2012-01-03 15:28:18</td>\n",
       "    </tr>\n",
       "    <tr>\n",
       "      <th>2</th>\n",
       "      <td>saUsX_uimxRlCVr67Z4Jig</td>\n",
       "      <td>8g_iMtfSiwikVnbP2etR0A</td>\n",
       "      <td>YjUWPpI6HXG530lwP-fb2A</td>\n",
       "      <td>3.0</td>\n",
       "      <td>0</td>\n",
       "      <td>0</td>\n",
       "      <td>0</td>\n",
       "      <td>Family diner. Had the buffet. Eclectic assortm...</td>\n",
       "      <td>2014-02-05 20:30:30</td>\n",
       "    </tr>\n",
       "  </tbody>\n",
       "</table>\n",
       "</div>"
      ],
      "text/plain": [
       "                review_id                 user_id             business_id  \\\n",
       "0  KU_O5udG6zpxOg-VcAEodg  mh_-eMZ6K5RLWhZyISBhwA  XQfwVwDr-v0ZS3_CbbE5Xw   \n",
       "1  BiTunyQ73aT9WBnpR9DZGw  OyoGAe7OKpv6SyGZT5g77Q  7ATYjTIgM3jUlt4UM3IypQ   \n",
       "2  saUsX_uimxRlCVr67Z4Jig  8g_iMtfSiwikVnbP2etR0A  YjUWPpI6HXG530lwP-fb2A   \n",
       "\n",
       "   stars  useful  funny  cool  \\\n",
       "0    3.0       0      0     0   \n",
       "1    5.0       1      0     1   \n",
       "2    3.0       0      0     0   \n",
       "\n",
       "                                                text                 date  \n",
       "0  If you decide to eat here, just be aware it is...  2018-07-07 22:09:11  \n",
       "1  I've taken a lot of spin classes over the year...  2012-01-03 15:28:18  \n",
       "2  Family diner. Had the buffet. Eclectic assortm...  2014-02-05 20:30:30  "
      ]
     },
     "execution_count": 4,
     "metadata": {},
     "output_type": "execute_result"
    }
   ],
   "source": [
    "# 파일 경로 설정\n",
    "review_path = 'data/yelp_academic_dataset_review.json'\n",
    "\n",
    "# JSON 파일에서 일부 데이터만 읽기\n",
    "n_lines = 3  # 읽고자 하는 줄 수\n",
    "\n",
    "# 줄 단위로 읽고 필요한 만큼만 데이터프레임으로 변환\n",
    "with open(review_path, 'r') as file:\n",
    "    # 필요한 줄 수만큼 JSON 읽기\n",
    "    lines = [file.readline() for _ in range(n_lines)]\n",
    "\n",
    "# 읽은 줄을 DataFrame으로 변환\n",
    "review = pd.DataFrame([pd.read_json(line, lines=False, typ='series') for line in lines])\n",
    "\n",
    "# 결과 확인\n",
    "review.head(3)"
   ]
  },
  {
   "cell_type": "code",
   "execution_count": 5,
   "metadata": {},
   "outputs": [
    {
     "data": {
      "text/html": [
       "<div>\n",
       "<style scoped>\n",
       "    .dataframe tbody tr th:only-of-type {\n",
       "        vertical-align: middle;\n",
       "    }\n",
       "\n",
       "    .dataframe tbody tr th {\n",
       "        vertical-align: top;\n",
       "    }\n",
       "\n",
       "    .dataframe thead th {\n",
       "        text-align: right;\n",
       "    }\n",
       "</style>\n",
       "<table border=\"1\" class=\"dataframe\">\n",
       "  <thead>\n",
       "    <tr style=\"text-align: right;\">\n",
       "      <th></th>\n",
       "      <th>user_id</th>\n",
       "      <th>business_id</th>\n",
       "      <th>text</th>\n",
       "      <th>date</th>\n",
       "      <th>compliment_count</th>\n",
       "    </tr>\n",
       "  </thead>\n",
       "  <tbody>\n",
       "    <tr>\n",
       "      <th>0</th>\n",
       "      <td>AGNUgVwnZUey3gcPCJ76iw</td>\n",
       "      <td>3uLgwr0qeCNMjKenHJwPGQ</td>\n",
       "      <td>Avengers time with the ladies.</td>\n",
       "      <td>2012-05-18 02:17:21</td>\n",
       "      <td>0</td>\n",
       "    </tr>\n",
       "    <tr>\n",
       "      <th>1</th>\n",
       "      <td>NBN4MgHP9D3cw--SnauTkA</td>\n",
       "      <td>QoezRbYQncpRqyrLH6Iqjg</td>\n",
       "      <td>They have lots of good deserts and tasty cuban...</td>\n",
       "      <td>2013-02-05 18:35:10</td>\n",
       "      <td>0</td>\n",
       "    </tr>\n",
       "    <tr>\n",
       "      <th>2</th>\n",
       "      <td>-copOvldyKh1qr-vzkDEvw</td>\n",
       "      <td>MYoRNLb5chwjQe3c_k37Gg</td>\n",
       "      <td>It's open even when you think it isn't</td>\n",
       "      <td>2013-08-18 00:56:08</td>\n",
       "      <td>0</td>\n",
       "    </tr>\n",
       "  </tbody>\n",
       "</table>\n",
       "</div>"
      ],
      "text/plain": [
       "                  user_id             business_id  \\\n",
       "0  AGNUgVwnZUey3gcPCJ76iw  3uLgwr0qeCNMjKenHJwPGQ   \n",
       "1  NBN4MgHP9D3cw--SnauTkA  QoezRbYQncpRqyrLH6Iqjg   \n",
       "2  -copOvldyKh1qr-vzkDEvw  MYoRNLb5chwjQe3c_k37Gg   \n",
       "\n",
       "                                                text                 date  \\\n",
       "0                     Avengers time with the ladies.  2012-05-18 02:17:21   \n",
       "1  They have lots of good deserts and tasty cuban...  2013-02-05 18:35:10   \n",
       "2             It's open even when you think it isn't  2013-08-18 00:56:08   \n",
       "\n",
       "   compliment_count  \n",
       "0                 0  \n",
       "1                 0  \n",
       "2                 0  "
      ]
     },
     "execution_count": 5,
     "metadata": {},
     "output_type": "execute_result"
    }
   ],
   "source": [
    "# 파일 경로 설정\n",
    "tip_path = 'data/yelp_academic_dataset_tip.json'\n",
    "\n",
    "# JSON 파일에서 일부 데이터만 읽기\n",
    "n_lines = 3  # 읽고자 하는 줄 수\n",
    "\n",
    "# 줄 단위로 읽고 필요한 만큼만 데이터프레임으로 변환\n",
    "with open(tip_path, 'r') as file:\n",
    "    # 필요한 줄 수만큼 JSON 읽기\n",
    "    lines = [file.readline() for _ in range(n_lines)]\n",
    "\n",
    "# 읽은 줄을 DataFrame으로 변환\n",
    "tip = pd.DataFrame([pd.read_json(line, lines=False, typ='series') for line in lines])\n",
    "\n",
    "# 결과 확인\n",
    "tip.head(3)"
   ]
  },
  {
   "cell_type": "code",
   "execution_count": 6,
   "metadata": {},
   "outputs": [
    {
     "data": {
      "text/html": [
       "<div>\n",
       "<style scoped>\n",
       "    .dataframe tbody tr th:only-of-type {\n",
       "        vertical-align: middle;\n",
       "    }\n",
       "\n",
       "    .dataframe tbody tr th {\n",
       "        vertical-align: top;\n",
       "    }\n",
       "\n",
       "    .dataframe thead th {\n",
       "        text-align: right;\n",
       "    }\n",
       "</style>\n",
       "<table border=\"1\" class=\"dataframe\">\n",
       "  <thead>\n",
       "    <tr style=\"text-align: right;\">\n",
       "      <th></th>\n",
       "      <th>user_id</th>\n",
       "      <th>name</th>\n",
       "      <th>review_count</th>\n",
       "      <th>yelping_since</th>\n",
       "      <th>useful</th>\n",
       "      <th>funny</th>\n",
       "      <th>cool</th>\n",
       "      <th>elite</th>\n",
       "      <th>friends</th>\n",
       "      <th>fans</th>\n",
       "      <th>...</th>\n",
       "      <th>compliment_more</th>\n",
       "      <th>compliment_profile</th>\n",
       "      <th>compliment_cute</th>\n",
       "      <th>compliment_list</th>\n",
       "      <th>compliment_note</th>\n",
       "      <th>compliment_plain</th>\n",
       "      <th>compliment_cool</th>\n",
       "      <th>compliment_funny</th>\n",
       "      <th>compliment_writer</th>\n",
       "      <th>compliment_photos</th>\n",
       "    </tr>\n",
       "  </thead>\n",
       "  <tbody>\n",
       "    <tr>\n",
       "      <th>0</th>\n",
       "      <td>qVc8ODYU5SZjKXVBgXdI7w</td>\n",
       "      <td>Walker</td>\n",
       "      <td>585</td>\n",
       "      <td>2007-01-25 16:47:26</td>\n",
       "      <td>7217</td>\n",
       "      <td>1259</td>\n",
       "      <td>5994</td>\n",
       "      <td>2007</td>\n",
       "      <td>NSCy54eWehBJyZdG2iE84w, pe42u7DcCH2QmI81NX-8qA...</td>\n",
       "      <td>267</td>\n",
       "      <td>...</td>\n",
       "      <td>65</td>\n",
       "      <td>55</td>\n",
       "      <td>56</td>\n",
       "      <td>18</td>\n",
       "      <td>232</td>\n",
       "      <td>844</td>\n",
       "      <td>467</td>\n",
       "      <td>467</td>\n",
       "      <td>239</td>\n",
       "      <td>180</td>\n",
       "    </tr>\n",
       "    <tr>\n",
       "      <th>1</th>\n",
       "      <td>j14WgRoU_-2ZE1aw1dXrJg</td>\n",
       "      <td>Daniel</td>\n",
       "      <td>4333</td>\n",
       "      <td>2009-01-25 04:35:42</td>\n",
       "      <td>43091</td>\n",
       "      <td>13066</td>\n",
       "      <td>27281</td>\n",
       "      <td>2009,2010,2011,2012,2013,2014,2015,2016,2017,2...</td>\n",
       "      <td>ueRPE0CX75ePGMqOFVj6IQ, 52oH4DrRvzzl8wh5UXyU0A...</td>\n",
       "      <td>3138</td>\n",
       "      <td>...</td>\n",
       "      <td>264</td>\n",
       "      <td>184</td>\n",
       "      <td>157</td>\n",
       "      <td>251</td>\n",
       "      <td>1847</td>\n",
       "      <td>7054</td>\n",
       "      <td>3131</td>\n",
       "      <td>3131</td>\n",
       "      <td>1521</td>\n",
       "      <td>1946</td>\n",
       "    </tr>\n",
       "    <tr>\n",
       "      <th>2</th>\n",
       "      <td>2WnXYQFK0hXEoTxPtV2zvg</td>\n",
       "      <td>Steph</td>\n",
       "      <td>665</td>\n",
       "      <td>2008-07-25 10:41:00</td>\n",
       "      <td>2086</td>\n",
       "      <td>1010</td>\n",
       "      <td>1003</td>\n",
       "      <td>2009,2010,2011,2012,2013</td>\n",
       "      <td>LuO3Bn4f3rlhyHIaNfTlnA, j9B4XdHUhDfTKVecyWQgyA...</td>\n",
       "      <td>52</td>\n",
       "      <td>...</td>\n",
       "      <td>13</td>\n",
       "      <td>10</td>\n",
       "      <td>17</td>\n",
       "      <td>3</td>\n",
       "      <td>66</td>\n",
       "      <td>96</td>\n",
       "      <td>119</td>\n",
       "      <td>119</td>\n",
       "      <td>35</td>\n",
       "      <td>18</td>\n",
       "    </tr>\n",
       "  </tbody>\n",
       "</table>\n",
       "<p>3 rows × 22 columns</p>\n",
       "</div>"
      ],
      "text/plain": [
       "                  user_id    name  review_count        yelping_since  useful  \\\n",
       "0  qVc8ODYU5SZjKXVBgXdI7w  Walker           585  2007-01-25 16:47:26    7217   \n",
       "1  j14WgRoU_-2ZE1aw1dXrJg  Daniel          4333  2009-01-25 04:35:42   43091   \n",
       "2  2WnXYQFK0hXEoTxPtV2zvg   Steph           665  2008-07-25 10:41:00    2086   \n",
       "\n",
       "   funny   cool                                              elite  \\\n",
       "0   1259   5994                                               2007   \n",
       "1  13066  27281  2009,2010,2011,2012,2013,2014,2015,2016,2017,2...   \n",
       "2   1010   1003                           2009,2010,2011,2012,2013   \n",
       "\n",
       "                                             friends  fans  ...  \\\n",
       "0  NSCy54eWehBJyZdG2iE84w, pe42u7DcCH2QmI81NX-8qA...   267  ...   \n",
       "1  ueRPE0CX75ePGMqOFVj6IQ, 52oH4DrRvzzl8wh5UXyU0A...  3138  ...   \n",
       "2  LuO3Bn4f3rlhyHIaNfTlnA, j9B4XdHUhDfTKVecyWQgyA...    52  ...   \n",
       "\n",
       "   compliment_more  compliment_profile  compliment_cute  compliment_list  \\\n",
       "0               65                  55               56               18   \n",
       "1              264                 184              157              251   \n",
       "2               13                  10               17                3   \n",
       "\n",
       "   compliment_note  compliment_plain  compliment_cool  compliment_funny  \\\n",
       "0              232               844              467               467   \n",
       "1             1847              7054             3131              3131   \n",
       "2               66                96              119               119   \n",
       "\n",
       "   compliment_writer  compliment_photos  \n",
       "0                239                180  \n",
       "1               1521               1946  \n",
       "2                 35                 18  \n",
       "\n",
       "[3 rows x 22 columns]"
      ]
     },
     "execution_count": 6,
     "metadata": {},
     "output_type": "execute_result"
    }
   ],
   "source": [
    "# 파일 경로 설정\n",
    "user_path = 'data/yelp_academic_dataset_user.json'\n",
    "\n",
    "# JSON 파일에서 일부 데이터만 읽기\n",
    "n_lines = 3  # 읽고자 하는 줄 수\n",
    "\n",
    "# 줄 단위로 읽고 필요한 만큼만 데이터프레임으로 변환\n",
    "with open(user_path, 'r') as file:\n",
    "    # 필요한 줄 수만큼 JSON 읽기\n",
    "    lines = [file.readline() for _ in range(n_lines)]\n",
    "\n",
    "# 읽은 줄을 DataFrame으로 변환\n",
    "user = pd.DataFrame([pd.read_json(line, lines=False, typ='series') for line in lines])\n",
    "\n",
    "# 결과 확인\n",
    "user.head(3)"
   ]
  },
  {
   "cell_type": "markdown",
   "metadata": {},
   "source": [
    "# Data Pre-processing"
   ]
  },
  {
   "cell_type": "markdown",
   "metadata": {},
   "source": [
    "- index | user_id | business_id | stars | text | year"
   ]
  },
  {
   "cell_type": "markdown",
   "metadata": {},
   "source": [
    "- Filtering\n",
    "    - City : Philadephia\n",
    "    - review count : 5>="
   ]
  },
  {
   "cell_type": "code",
   "execution_count": 7,
   "metadata": {},
   "outputs": [
    {
     "data": {
      "text/html": [
       "<div>\n",
       "<style scoped>\n",
       "    .dataframe tbody tr th:only-of-type {\n",
       "        vertical-align: middle;\n",
       "    }\n",
       "\n",
       "    .dataframe tbody tr th {\n",
       "        vertical-align: top;\n",
       "    }\n",
       "\n",
       "    .dataframe thead th {\n",
       "        text-align: right;\n",
       "    }\n",
       "</style>\n",
       "<table border=\"1\" class=\"dataframe\">\n",
       "  <thead>\n",
       "    <tr style=\"text-align: right;\">\n",
       "      <th></th>\n",
       "      <th>business_id</th>\n",
       "      <th>name</th>\n",
       "      <th>address</th>\n",
       "      <th>city</th>\n",
       "      <th>state</th>\n",
       "      <th>postal_code</th>\n",
       "      <th>latitude</th>\n",
       "      <th>longitude</th>\n",
       "      <th>stars</th>\n",
       "      <th>review_count</th>\n",
       "      <th>is_open</th>\n",
       "      <th>attributes</th>\n",
       "      <th>categories</th>\n",
       "      <th>hours</th>\n",
       "    </tr>\n",
       "  </thead>\n",
       "  <tbody>\n",
       "    <tr>\n",
       "      <th>14566</th>\n",
       "      <td>9U1Igcpe954LoWZRmNc-zg</td>\n",
       "      <td>Hand &amp; Stone Massage And Facial Spa</td>\n",
       "      <td>1100 S Columbus Blvd, Ste 24</td>\n",
       "      <td>Philadelphia</td>\n",
       "      <td>PA</td>\n",
       "      <td>19147</td>\n",
       "      <td>39.932756</td>\n",
       "      <td>-75.144504</td>\n",
       "      <td>3.0</td>\n",
       "      <td>32</td>\n",
       "      <td>1</td>\n",
       "      <td>{'BusinessAcceptsCreditCards': 'True', 'Wheelc...</td>\n",
       "      <td>Day Spas, Beauty &amp; Spas, Skin Care, Massage</td>\n",
       "      <td>{'Monday': '9:0-22:0', 'Tuesday': '9:0-22:0', ...</td>\n",
       "    </tr>\n",
       "    <tr>\n",
       "      <th>14567</th>\n",
       "      <td>LJ4GjQ1HL6kqvIPpNUNNaQ</td>\n",
       "      <td>Shanti Yoga and Ayurveda</td>\n",
       "      <td>1638 Pine St, Fl 1</td>\n",
       "      <td>Philadelphia</td>\n",
       "      <td>PA</td>\n",
       "      <td>19103</td>\n",
       "      <td>39.945966</td>\n",
       "      <td>-75.169666</td>\n",
       "      <td>4.5</td>\n",
       "      <td>39</td>\n",
       "      <td>1</td>\n",
       "      <td>{'ByAppointmentOnly': 'True', 'GoodForKids': '...</td>\n",
       "      <td>Health &amp; Medical, Yoga, Shopping, Naturopathic...</td>\n",
       "      <td>{'Monday': '7:0-20:0', 'Tuesday': '7:0-20:0', ...</td>\n",
       "    </tr>\n",
       "    <tr>\n",
       "      <th>14568</th>\n",
       "      <td>WnT9NIzQgLlILjPT0kEcsQ</td>\n",
       "      <td>Adelita Taqueria &amp; Restaurant</td>\n",
       "      <td>1108 S 9th St</td>\n",
       "      <td>Philadelphia</td>\n",
       "      <td>PA</td>\n",
       "      <td>19147</td>\n",
       "      <td>39.935982</td>\n",
       "      <td>-75.158665</td>\n",
       "      <td>4.5</td>\n",
       "      <td>35</td>\n",
       "      <td>1</td>\n",
       "      <td>{'WheelchairAccessible': 'False', 'Restaurants...</td>\n",
       "      <td>Restaurants, Mexican</td>\n",
       "      <td>{'Monday': '11:0-22:0', 'Tuesday': '11:0-22:0'...</td>\n",
       "    </tr>\n",
       "  </tbody>\n",
       "</table>\n",
       "</div>"
      ],
      "text/plain": [
       "                  business_id                                 name  \\\n",
       "14566  9U1Igcpe954LoWZRmNc-zg  Hand & Stone Massage And Facial Spa   \n",
       "14567  LJ4GjQ1HL6kqvIPpNUNNaQ             Shanti Yoga and Ayurveda   \n",
       "14568  WnT9NIzQgLlILjPT0kEcsQ        Adelita Taqueria & Restaurant   \n",
       "\n",
       "                            address          city state postal_code  \\\n",
       "14566  1100 S Columbus Blvd, Ste 24  Philadelphia    PA       19147   \n",
       "14567            1638 Pine St, Fl 1  Philadelphia    PA       19103   \n",
       "14568                 1108 S 9th St  Philadelphia    PA       19147   \n",
       "\n",
       "        latitude  longitude  stars  review_count  is_open  \\\n",
       "14566  39.932756 -75.144504    3.0            32        1   \n",
       "14567  39.945966 -75.169666    4.5            39        1   \n",
       "14568  39.935982 -75.158665    4.5            35        1   \n",
       "\n",
       "                                              attributes  \\\n",
       "14566  {'BusinessAcceptsCreditCards': 'True', 'Wheelc...   \n",
       "14567  {'ByAppointmentOnly': 'True', 'GoodForKids': '...   \n",
       "14568  {'WheelchairAccessible': 'False', 'Restaurants...   \n",
       "\n",
       "                                              categories  \\\n",
       "14566        Day Spas, Beauty & Spas, Skin Care, Massage   \n",
       "14567  Health & Medical, Yoga, Shopping, Naturopathic...   \n",
       "14568                               Restaurants, Mexican   \n",
       "\n",
       "                                                   hours  \n",
       "14566  {'Monday': '9:0-22:0', 'Tuesday': '9:0-22:0', ...  \n",
       "14567  {'Monday': '7:0-20:0', 'Tuesday': '7:0-20:0', ...  \n",
       "14568  {'Monday': '11:0-22:0', 'Tuesday': '11:0-22:0'...  "
      ]
     },
     "execution_count": 7,
     "metadata": {},
     "output_type": "execute_result"
    }
   ],
   "source": [
    "# 파일 경로 설정\n",
    "business_path = 'data/yelp_academic_dataset_business.json'\n",
    "\n",
    "# JSON 파일 전체를 불러오되, 필요한 데이터만 추출\n",
    "city_filter = \"Philadelphia\"  # 필터링할 도시 이름\n",
    "min_reviews = 5  # 최소 리뷰 수\n",
    "\n",
    "# 결과 저장할 빈 DataFrame 초기화\n",
    "filtered_data = pd.DataFrame()\n",
    "\n",
    "# 청크 단위로 JSON 파일 읽기\n",
    "for chunk in pd.read_json(business_path, lines=True, chunksize=10000):\n",
    "    # 'city' 컬럼이 \"Philadelphia\"이고 'review_count'가 5 이상인 데이터만 필터링\n",
    "    filtered_chunk = chunk[(chunk['city'] == city_filter) & (chunk['review_count'] >= min_reviews)]\n",
    "    # 결과를 filtered_data에 추가\n",
    "    filtered_data = pd.concat([filtered_data, filtered_chunk], ignore_index=True)\n",
    "\n",
    "filtered_data.tail(3)"
   ]
  },
  {
   "cell_type": "code",
   "execution_count": 8,
   "metadata": {},
   "outputs": [
    {
     "data": {
      "text/html": [
       "<div>\n",
       "<style scoped>\n",
       "    .dataframe tbody tr th:only-of-type {\n",
       "        vertical-align: middle;\n",
       "    }\n",
       "\n",
       "    .dataframe tbody tr th {\n",
       "        vertical-align: top;\n",
       "    }\n",
       "\n",
       "    .dataframe thead th {\n",
       "        text-align: right;\n",
       "    }\n",
       "</style>\n",
       "<table border=\"1\" class=\"dataframe\">\n",
       "  <thead>\n",
       "    <tr style=\"text-align: right;\">\n",
       "      <th></th>\n",
       "      <th>review_id</th>\n",
       "      <th>user_id</th>\n",
       "      <th>business_id</th>\n",
       "      <th>stars</th>\n",
       "      <th>useful</th>\n",
       "      <th>funny</th>\n",
       "      <th>cool</th>\n",
       "      <th>text</th>\n",
       "      <th>date</th>\n",
       "    </tr>\n",
       "  </thead>\n",
       "  <tbody>\n",
       "    <tr>\n",
       "      <th>967549</th>\n",
       "      <td>99ylx-qPUSseITqBye2MpA</td>\n",
       "      <td>-AkziDwQ8hv2COTDBBUpig</td>\n",
       "      <td>aunmz06iWvo3bd6MMHEbqg</td>\n",
       "      <td>3</td>\n",
       "      <td>0</td>\n",
       "      <td>0</td>\n",
       "      <td>0</td>\n",
       "      <td>Philly has become a dangerous place with the m...</td>\n",
       "      <td>2022-01-18 03:48:44</td>\n",
       "    </tr>\n",
       "    <tr>\n",
       "      <th>967550</th>\n",
       "      <td>KlHxcAifUF5zDKpJCBrRsw</td>\n",
       "      <td>7ziWZULyiZv2TesYNMFf4g</td>\n",
       "      <td>qQO7ErS_RAN4Vs1uX0L55Q</td>\n",
       "      <td>4</td>\n",
       "      <td>1</td>\n",
       "      <td>0</td>\n",
       "      <td>0</td>\n",
       "      <td>ice cream! ice cream sodas, sundaes!! \\n\\nwant...</td>\n",
       "      <td>2012-10-21 04:08:40</td>\n",
       "    </tr>\n",
       "    <tr>\n",
       "      <th>967551</th>\n",
       "      <td>cACxcUY_AIsQKkpDRXuqnw</td>\n",
       "      <td>MCzlzlOw7IGbRAKVjJBPtg</td>\n",
       "      <td>fcGexL5VH5G2Xw0tRj9uOQ</td>\n",
       "      <td>3</td>\n",
       "      <td>1</td>\n",
       "      <td>1</td>\n",
       "      <td>0</td>\n",
       "      <td>This is a good pizza option - they deliver thr...</td>\n",
       "      <td>2018-03-13 13:54:48</td>\n",
       "    </tr>\n",
       "  </tbody>\n",
       "</table>\n",
       "</div>"
      ],
      "text/plain": [
       "                     review_id                 user_id  \\\n",
       "967549  99ylx-qPUSseITqBye2MpA  -AkziDwQ8hv2COTDBBUpig   \n",
       "967550  KlHxcAifUF5zDKpJCBrRsw  7ziWZULyiZv2TesYNMFf4g   \n",
       "967551  cACxcUY_AIsQKkpDRXuqnw  MCzlzlOw7IGbRAKVjJBPtg   \n",
       "\n",
       "                   business_id  stars  useful  funny  cool  \\\n",
       "967549  aunmz06iWvo3bd6MMHEbqg      3       0      0     0   \n",
       "967550  qQO7ErS_RAN4Vs1uX0L55Q      4       1      0     0   \n",
       "967551  fcGexL5VH5G2Xw0tRj9uOQ      3       1      1     0   \n",
       "\n",
       "                                                     text                date  \n",
       "967549  Philly has become a dangerous place with the m... 2022-01-18 03:48:44  \n",
       "967550  ice cream! ice cream sodas, sundaes!! \\n\\nwant... 2012-10-21 04:08:40  \n",
       "967551  This is a good pizza option - they deliver thr... 2018-03-13 13:54:48  "
      ]
     },
     "execution_count": 8,
     "metadata": {},
     "output_type": "execute_result"
    }
   ],
   "source": [
    "business_ids = filtered_data[['business_id']]\n",
    "\n",
    "# JSON 파일 전체를 처리하면서 동일한 business_id만 필터링\n",
    "review_path = 'data/yelp_academic_dataset_review.json'\n",
    "\n",
    "# 결과 저장할 빈 DataFrame 초기화\n",
    "filtered_reviews = pd.DataFrame()\n",
    "\n",
    "# 청크 단위로 JSON 파일 읽기\n",
    "for chunk in pd.read_json(review_path, lines=True, chunksize=10000):\n",
    "    # business_id 기준으로 필터링\n",
    "    filtered_chunk = chunk[chunk['business_id'].isin(business_ids['business_id'])]\n",
    "    # 결과를 filtered_reviews에 추가\n",
    "    filtered_reviews = pd.concat([filtered_reviews, filtered_chunk], ignore_index=True)\n",
    "    \n",
    "filtered_reviews.tail(3)"
   ]
  },
  {
   "cell_type": "code",
   "execution_count": 9,
   "metadata": {},
   "outputs": [
    {
     "data": {
      "text/html": [
       "<div>\n",
       "<style scoped>\n",
       "    .dataframe tbody tr th:only-of-type {\n",
       "        vertical-align: middle;\n",
       "    }\n",
       "\n",
       "    .dataframe tbody tr th {\n",
       "        vertical-align: top;\n",
       "    }\n",
       "\n",
       "    .dataframe thead th {\n",
       "        text-align: right;\n",
       "    }\n",
       "</style>\n",
       "<table border=\"1\" class=\"dataframe\">\n",
       "  <thead>\n",
       "    <tr style=\"text-align: right;\">\n",
       "      <th></th>\n",
       "      <th>user_id</th>\n",
       "      <th>business_id</th>\n",
       "      <th>stars</th>\n",
       "      <th>text</th>\n",
       "      <th>year</th>\n",
       "    </tr>\n",
       "  </thead>\n",
       "  <tbody>\n",
       "    <tr>\n",
       "      <th>967549</th>\n",
       "      <td>-AkziDwQ8hv2COTDBBUpig</td>\n",
       "      <td>aunmz06iWvo3bd6MMHEbqg</td>\n",
       "      <td>3</td>\n",
       "      <td>Philly has become a dangerous place with the m...</td>\n",
       "      <td>2022</td>\n",
       "    </tr>\n",
       "    <tr>\n",
       "      <th>967550</th>\n",
       "      <td>7ziWZULyiZv2TesYNMFf4g</td>\n",
       "      <td>qQO7ErS_RAN4Vs1uX0L55Q</td>\n",
       "      <td>4</td>\n",
       "      <td>ice cream! ice cream sodas, sundaes!! \\n\\nwant...</td>\n",
       "      <td>2012</td>\n",
       "    </tr>\n",
       "    <tr>\n",
       "      <th>967551</th>\n",
       "      <td>MCzlzlOw7IGbRAKVjJBPtg</td>\n",
       "      <td>fcGexL5VH5G2Xw0tRj9uOQ</td>\n",
       "      <td>3</td>\n",
       "      <td>This is a good pizza option - they deliver thr...</td>\n",
       "      <td>2018</td>\n",
       "    </tr>\n",
       "  </tbody>\n",
       "</table>\n",
       "</div>"
      ],
      "text/plain": [
       "                       user_id             business_id  stars  \\\n",
       "967549  -AkziDwQ8hv2COTDBBUpig  aunmz06iWvo3bd6MMHEbqg      3   \n",
       "967550  7ziWZULyiZv2TesYNMFf4g  qQO7ErS_RAN4Vs1uX0L55Q      4   \n",
       "967551  MCzlzlOw7IGbRAKVjJBPtg  fcGexL5VH5G2Xw0tRj9uOQ      3   \n",
       "\n",
       "                                                     text  year  \n",
       "967549  Philly has become a dangerous place with the m...  2022  \n",
       "967550  ice cream! ice cream sodas, sundaes!! \\n\\nwant...  2012  \n",
       "967551  This is a good pizza option - they deliver thr...  2018  "
      ]
     },
     "execution_count": 9,
     "metadata": {},
     "output_type": "execute_result"
    }
   ],
   "source": [
    "data = filtered_reviews[['user_id', 'business_id', 'stars', 'text', 'date']]\n",
    "# date 컬럼에서 연도만 추출\n",
    "data['year'] = data['date'].dt.year\n",
    "\n",
    "# 기존 date 컬럼 이름을 year로 변경\n",
    "data = data.drop(columns=['date'])  # 기존 date 컬럼 삭제\n",
    "data.tail(3)"
   ]
  },
  {
   "cell_type": "code",
   "execution_count": 10,
   "metadata": {},
   "outputs": [
    {
     "name": "stdout",
     "output_type": "stream",
     "text": [
      "<class 'pandas.core.frame.DataFrame'>\n",
      "RangeIndex: 967552 entries, 0 to 967551\n",
      "Data columns (total 5 columns):\n",
      " #   Column       Non-Null Count   Dtype \n",
      "---  ------       --------------   ----- \n",
      " 0   user_id      967552 non-null  object\n",
      " 1   business_id  967552 non-null  object\n",
      " 2   stars        967552 non-null  int64 \n",
      " 3   text         967552 non-null  object\n",
      " 4   year         967552 non-null  int32 \n",
      "dtypes: int32(1), int64(1), object(3)\n",
      "memory usage: 33.2+ MB\n"
     ]
    }
   ],
   "source": [
    "data.info()"
   ]
  },
  {
   "cell_type": "markdown",
   "metadata": {},
   "source": [
    "- 모델의 입력으로 사용하기 위해, 문자열로 이루어진 유저ID와 레스토랑ID를 각각 고유한 정수로 인코딩"
   ]
  },
  {
   "cell_type": "code",
   "execution_count": 11,
   "metadata": {},
   "outputs": [
    {
     "name": "stdout",
     "output_type": "stream",
     "text": [
      "전체 유저 수 : 279857 / 아이템 수 : 14569\n"
     ]
    }
   ],
   "source": [
    "from sklearn.preprocessing import LabelEncoder\n",
    " \n",
    "# 유저와 레스토랑을 고유한 정수로 인코딩\n",
    "le = LabelEncoder()\n",
    "data['user_id'] = le.fit_transform(data['user_id'])\n",
    "data['business_id'] = le.fit_transform(data['business_id'])\n",
    " \n",
    "# 필요없는 열 제거\n",
    "data.drop(['text', 'year'], axis=1, inplace=True)\n",
    "data.head()\n",
    " \n",
    "# 총 유저, 레스토랑 수\n",
    "num_user = data['user_id'].nunique()\n",
    "num_res = data['business_id'].nunique()\n",
    " \n",
    "print('전체 유저 수 : {0} / 아이템 수 : {1}'.format(num_user, num_res))\n"
   ]
  },
  {
   "cell_type": "markdown",
   "metadata": {},
   "source": [
    "## Leave one out\n",
    "- 데이터셋 분리"
   ]
  },
  {
   "cell_type": "code",
   "execution_count": 12,
   "metadata": {},
   "outputs": [
    {
     "name": "stdout",
     "output_type": "stream",
     "text": [
      "훈련 데이터셋 유저 수: 113881\n",
      "테스트 데이터셋 유저 수: 279857\n"
     ]
    }
   ],
   "source": [
    "data['stars'] = 1\n",
    "# 본 데이터에는 timestamp가 없기 때문에, user_index로 만들어준다.\n",
    "data['timestamp'] = data['user_id'].index\n",
    "\n",
    "# 유저별로 groupby 한 후에, 가장 첫번째 데이터를 test 세트로 분리한다.\n",
    "data['rank_latest'] = data.groupby(['user_id'])['timestamp'].rank(method='first', ascending=False)\n",
    "\n",
    "train_ratings = data[data['rank_latest'] != 1]\n",
    "test_ratings = data[data['rank_latest'] == 1]\n",
    "\n",
    "train_ratings = train_ratings[['user_id', 'business_id', 'stars']]\n",
    "test_ratings = test_ratings[['user_id', 'business_id', 'stars']]\n",
    "\n",
    "print('훈련 데이터셋 유저 수:', train_ratings['user_id'].nunique())\n",
    "print('테스트 데이터셋 유저 수:', test_ratings['user_id'].nunique())"
   ]
  },
  {
   "cell_type": "markdown",
   "metadata": {},
   "source": [
    "## Negative sampling\n",
    "- 해당 데이터에는 구매여부(0 or 1)를 예측하지만, 데이터 세트에는 구매한 1 데이터 밖에 존재하지 않는다.\n",
    "- 따라서, 구매하지 않은 데이터(0)을 만들어주기 위해, 전체 아이템(레스토랑) 풀에서 랜덤하게 생성한다."
   ]
  },
  {
   "cell_type": "code",
   "execution_count": 13,
   "metadata": {},
   "outputs": [
    {
     "data": {
      "application/vnd.jupyter.widget-view+json": {
       "model_id": "851c61bb90a6493485b36c51d9590e2a",
       "version_major": 2,
       "version_minor": 0
      },
      "text/plain": [
       "  0%|          | 0/661253 [00:00<?, ?it/s]"
      ]
     },
     "metadata": {},
     "output_type": "display_data"
    },
    {
     "data": {
      "text/html": [
       "<div>\n",
       "<style scoped>\n",
       "    .dataframe tbody tr th:only-of-type {\n",
       "        vertical-align: middle;\n",
       "    }\n",
       "\n",
       "    .dataframe tbody tr th {\n",
       "        vertical-align: top;\n",
       "    }\n",
       "\n",
       "    .dataframe thead th {\n",
       "        text-align: right;\n",
       "    }\n",
       "</style>\n",
       "<table border=\"1\" class=\"dataframe\">\n",
       "  <thead>\n",
       "    <tr style=\"text-align: right;\">\n",
       "      <th></th>\n",
       "      <th>user_id</th>\n",
       "      <th>business_id</th>\n",
       "      <th>labels</th>\n",
       "    </tr>\n",
       "  </thead>\n",
       "  <tbody>\n",
       "    <tr>\n",
       "      <th>3306262</th>\n",
       "      <td>38372</td>\n",
       "      <td>10658</td>\n",
       "      <td>0</td>\n",
       "    </tr>\n",
       "    <tr>\n",
       "      <th>3306263</th>\n",
       "      <td>38372</td>\n",
       "      <td>5470</td>\n",
       "      <td>0</td>\n",
       "    </tr>\n",
       "    <tr>\n",
       "      <th>3306264</th>\n",
       "      <td>38372</td>\n",
       "      <td>7089</td>\n",
       "      <td>0</td>\n",
       "    </tr>\n",
       "  </tbody>\n",
       "</table>\n",
       "</div>"
      ],
      "text/plain": [
       "         user_id  business_id  labels\n",
       "3306262    38372        10658       0\n",
       "3306263    38372         5470       0\n",
       "3306264    38372         7089       0"
      ]
     },
     "execution_count": 13,
     "metadata": {},
     "output_type": "execute_result"
    }
   ],
   "source": [
    "# 전체 레스토랑 풀\n",
    "all_rest = data['business_id'].unique()\n",
    "\n",
    "# 빈 리스트 생성\n",
    "users, items, labels= [], [], []\n",
    "\n",
    "# 훈련 세트에 존재하는 유저-레스토랑 페어\n",
    "user_item_set = set(zip(train_ratings['user_id'], train_ratings['business_id']))\n",
    "\n",
    "# 4:1 비율로, 구매하지 않은 0 라벨을 만들어준다.\n",
    "num_negatives = 4\n",
    "\n",
    "for (u, i) in tqdm(user_item_set):\n",
    "    users.append(u)\n",
    "    items.append(i)\n",
    "    labels.append(1) # items that the user has interacted with are positive\n",
    "\n",
    "    for _ in range(num_negatives):\n",
    "        # randomly select an item\n",
    "        negative_item = np.random.choice(all_rest)\n",
    "        # check that the user has not interacted with this item\n",
    "        while (u, negative_item) in user_item_set:\n",
    "            negative_item = np.random.choice(all_rest)\n",
    "        users.append(u)\n",
    "        items.append(negative_item)\n",
    "        labels.append(0)\n",
    "\n",
    "users = np.array(users)\n",
    "items = np.array(items)\n",
    "labels = np.array(labels)\n",
    "\n",
    "train_df = pd.DataFrame({'user_id':users, 'business_id':items, 'labels':labels})\n",
    "train_df.tail(3)"
   ]
  },
  {
   "cell_type": "code",
   "execution_count": 14,
   "metadata": {},
   "outputs": [],
   "source": [
    "# 테스트 데이터는 negative sampling을 적용하지 않고, 나중에 Dataloader에서 배치를 적용할 예정\n",
    "test_df = test_ratings.rename({'stars':'labels'}, axis=1)\n",
    "test_df = test_df.reset_index().drop('index', axis=1)"
   ]
  },
  {
   "cell_type": "markdown",
   "metadata": {},
   "source": [
    "# Dataset & Dataloader"
   ]
  },
  {
   "cell_type": "code",
   "execution_count": 15,
   "metadata": {},
   "outputs": [],
   "source": [
    "class Rating_Datset(torch.utils.data.Dataset):\n",
    "\tdef __init__(self, dataset):\n",
    "\t\tself.user = dataset['user_id']\n",
    "\t\tself.item = dataset['business_id']\n",
    "\t\tself.label = dataset['labels']\n",
    "\n",
    "\tdef __len__(self):\n",
    "\t\treturn len(self.user)\n",
    "\n",
    "\tdef __getitem__(self, idx):\n",
    "\t\tu = self.user[idx]\n",
    "\t\ti = self.item[idx]\n",
    "\t\tl = self.label[idx]\n",
    "\n",
    "\t\treturn torch.tensor(u), torch.tensor(i), torch.tensor(l)\n",
    "\n",
    "train_dataset = Rating_Datset(train_df)\n",
    "test_dataset = Rating_Datset(test_df)\n",
    "\n",
    "train_dataloader = DataLoader(train_dataset, batch_size=256)\n",
    "test_dataloader = DataLoader(test_dataset, batch_size=99)"
   ]
  },
  {
   "cell_type": "markdown",
   "metadata": {},
   "source": [
    "# Define Model"
   ]
  },
  {
   "cell_type": "markdown",
   "metadata": {},
   "source": [
    "![alt text](img/model_framework.png)"
   ]
  },
  {
   "cell_type": "markdown",
   "metadata": {},
   "source": [
    "- 간단히 유저의 수와 레스토랑 수로 이루어진 임베딩을 구현한다. 이때 임베딩 차원을 8로 지정한다.\n",
    "- 이후, [32 -> 16 -> 8] 크기의 레이어 3개를 통과하고, 구매 여부[0,1]를 예측하기 때문에 마지막 활성화 함수는 sigmoid를 적용한다."
   ]
  },
  {
   "cell_type": "code",
   "execution_count": 16,
   "metadata": {},
   "outputs": [
    {
     "data": {
      "text/plain": [
       "NCF(\n",
       "  (relu): ReLU()\n",
       "  (sigmoid): Sigmoid()\n",
       "  (embedding_user): Embedding(279858, 16)\n",
       "  (embedding_item): Embedding(14570, 16)\n",
       "  (fc1): Linear(in_features=32, out_features=16, bias=True)\n",
       "  (fc2): Linear(in_features=16, out_features=8, bias=True)\n",
       "  (fc3): Linear(in_features=8, out_features=1, bias=True)\n",
       ")"
      ]
     },
     "execution_count": 16,
     "metadata": {},
     "output_type": "execute_result"
    }
   ],
   "source": [
    "class NCF(nn.Module):\n",
    "    def __init__(self, num_users, num_items):\n",
    "        super(NCF, self).__init__()\n",
    "        self.num_users = num_users\n",
    "        self.num_items = num_items\n",
    "        self.embed_dim = 16\n",
    "        self.relu=nn.ReLU()\n",
    "        self.sigmoid= nn.Sigmoid()\n",
    " \n",
    "        self.embedding_user = nn.Embedding(num_embeddings=self.num_users, embedding_dim=self.embed_dim)\n",
    "        self.embedding_item = nn.Embedding(num_embeddings=self.num_items, embedding_dim=self.embed_dim)\n",
    " \n",
    "        self.fc1 = nn.Linear(in_features=32, out_features=16)\n",
    "        self.fc2 = nn.Linear(in_features=16, out_features=8)\n",
    "        self.fc3 = nn.Linear(in_features=8, out_features=1)\n",
    "\n",
    "    def forward(self, user_indices, item_indices):\n",
    "        user_embedding = self.embedding_user(user_indices)\n",
    "        item_embedding = self.embedding_item(item_indices)\n",
    "        vector = torch.cat([user_embedding, item_embedding], dim=-1)  # the concat latent vector\n",
    "\n",
    "        x = self.fc1(vector)\n",
    "        x = self.relu(x)\n",
    "        # x = nn.BatchNorm1d()(x)\n",
    "        # x = nn.Dropout(p=0.1)(x)\n",
    "        x = self.fc2(x)\n",
    "        x = self.relu(x)\n",
    "        x = self.fc3(x)\n",
    "        out = self.sigmoid(x)\n",
    "\n",
    "        return out.squeeze()\n",
    "\n",
    "num_users = data['user_id'].nunique()+1\n",
    "num_items = data['business_id'].nunique()+1\n",
    "\n",
    "model = NCF(num_users, num_items)\n",
    "model.to(device)"
   ]
  },
  {
   "cell_type": "markdown",
   "metadata": {},
   "source": [
    "# Hit ratio & NDCG\n",
    "- Hit ratio : 추천된 상위 K개의 아이템 중 실제로 사용자가 선호하는 아이템이 얼마나 포함되었는지를 측정한다.\n",
    "- NDCG(Normalized Discounted Cumulative Gain) : 추천된 상위 K개의 아이템에 대해, 사용자의 관심도에 따라 순위를 매기고 할인된 누적 이득을 정규화한 값으로, 더 높은 NDCG 값은 더 좋은 추천을 의미한다."
   ]
  },
  {
   "cell_type": "code",
   "execution_count": 17,
   "metadata": {},
   "outputs": [],
   "source": [
    "def hit(gt_item, pred_items):\n",
    "    if gt_item in pred_items:\n",
    "        return 1\n",
    "    return 0\n",
    "\n",
    "def ndcg(gt_item, pred_items):\n",
    "    if gt_item in pred_items:\n",
    "        index = pred_items.index(gt_item)\n",
    "        return np.reciprocal(np.log2(index + 2))\n",
    "    return 0\n",
    "\n",
    "def metrics(model, test_loader, top_k):\n",
    "    HR, NDCG = [], []\n",
    "\n",
    "    for user, item, _ in test_loader:\n",
    "        user = user.to(device)\n",
    "        item = item.to(device)\n",
    "\n",
    "        predictions = model(user, item)\n",
    "        # 가장 높은 top_k개 선택\n",
    "        _, indices = torch.topk(predictions, top_k)\n",
    "        # 해당 상품 index 선택\n",
    "        recommends = torch.take(item, indices).cpu().numpy().tolist()\n",
    "        # 정답값 선택\n",
    "        gt_item = item[0].item()\n",
    "        HR.append(hit(gt_item, recommends))\n",
    "        NDCG.append(ndcg(gt_item, recommends))\n",
    "\n",
    "    return np.mean(HR), np.mean(NDCG)"
   ]
  },
  {
   "cell_type": "markdown",
   "metadata": {},
   "source": [
    "# Model"
   ]
  },
  {
   "cell_type": "code",
   "execution_count": 19,
   "metadata": {},
   "outputs": [
    {
     "name": "stdout",
     "output_type": "stream",
     "text": [
      "##### EPOCH 1 #####\n"
     ]
    },
    {
     "data": {
      "application/vnd.jupyter.widget-view+json": {
       "model_id": "7a72f09d72c44bcfac1614db09f1642a",
       "version_major": 2,
       "version_minor": 0
      },
      "text/plain": [
       "  0%|          | 0/12916 [00:00<?, ?it/s]"
      ]
     },
     "metadata": {},
     "output_type": "display_data"
    },
    {
     "name": "stdout",
     "output_type": "stream",
     "text": [
      "The time elapse of epoch 000 is: 00: 01: 57\n",
      "HR: 0.329\tNDCG: 0.127\n",
      "##### EPOCH 2 #####\n"
     ]
    },
    {
     "data": {
      "application/vnd.jupyter.widget-view+json": {
       "model_id": "5bcd262d47f646338d180cecb697eb9a",
       "version_major": 2,
       "version_minor": 0
      },
      "text/plain": [
       "  0%|          | 0/12916 [00:00<?, ?it/s]"
      ]
     },
     "metadata": {},
     "output_type": "display_data"
    },
    {
     "name": "stdout",
     "output_type": "stream",
     "text": [
      "The time elapse of epoch 001 is: 00: 01: 57\n",
      "HR: 0.333\tNDCG: 0.128\n",
      "##### EPOCH 3 #####\n"
     ]
    },
    {
     "data": {
      "application/vnd.jupyter.widget-view+json": {
       "model_id": "cdb4dce74863429c97622c6b16c54024",
       "version_major": 2,
       "version_minor": 0
      },
      "text/plain": [
       "  0%|          | 0/12916 [00:00<?, ?it/s]"
      ]
     },
     "metadata": {},
     "output_type": "display_data"
    },
    {
     "name": "stdout",
     "output_type": "stream",
     "text": [
      "The time elapse of epoch 002 is: 00: 01: 58\n",
      "HR: 0.335\tNDCG: 0.128\n",
      "##### EPOCH 4 #####\n"
     ]
    },
    {
     "data": {
      "application/vnd.jupyter.widget-view+json": {
       "model_id": "ef4da767545e4069a71d0f48d5cf37d1",
       "version_major": 2,
       "version_minor": 0
      },
      "text/plain": [
       "  0%|          | 0/12916 [00:00<?, ?it/s]"
      ]
     },
     "metadata": {},
     "output_type": "display_data"
    },
    {
     "name": "stdout",
     "output_type": "stream",
     "text": [
      "The time elapse of epoch 003 is: 00: 02: 03\n",
      "HR: 0.339\tNDCG: 0.129\n",
      "##### EPOCH 5 #####\n"
     ]
    },
    {
     "data": {
      "application/vnd.jupyter.widget-view+json": {
       "model_id": "798f8bd6aa6d4047b060270522c9805e",
       "version_major": 2,
       "version_minor": 0
      },
      "text/plain": [
       "  0%|          | 0/12916 [00:00<?, ?it/s]"
      ]
     },
     "metadata": {},
     "output_type": "display_data"
    },
    {
     "name": "stdout",
     "output_type": "stream",
     "text": [
      "The time elapse of epoch 004 is: 00: 02: 05\n",
      "HR: 0.344\tNDCG: 0.130\n",
      "##### EPOCH 6 #####\n"
     ]
    },
    {
     "data": {
      "application/vnd.jupyter.widget-view+json": {
       "model_id": "b957a0134e3948b780911dc66e163819",
       "version_major": 2,
       "version_minor": 0
      },
      "text/plain": [
       "  0%|          | 0/12916 [00:00<?, ?it/s]"
      ]
     },
     "metadata": {},
     "output_type": "display_data"
    },
    {
     "name": "stdout",
     "output_type": "stream",
     "text": [
      "The time elapse of epoch 005 is: 00: 02: 06\n",
      "HR: 0.344\tNDCG: 0.130\n",
      "##### EPOCH 7 #####\n"
     ]
    },
    {
     "data": {
      "application/vnd.jupyter.widget-view+json": {
       "model_id": "d1032adf58114937a018ce68b8c8d250",
       "version_major": 2,
       "version_minor": 0
      },
      "text/plain": [
       "  0%|          | 0/12916 [00:00<?, ?it/s]"
      ]
     },
     "metadata": {},
     "output_type": "display_data"
    },
    {
     "name": "stdout",
     "output_type": "stream",
     "text": [
      "The time elapse of epoch 006 is: 00: 02: 13\n",
      "HR: 0.349\tNDCG: 0.131\n",
      "##### EPOCH 8 #####\n"
     ]
    },
    {
     "data": {
      "application/vnd.jupyter.widget-view+json": {
       "model_id": "3acd9a1f41554d77be6e379bea5bcf4d",
       "version_major": 2,
       "version_minor": 0
      },
      "text/plain": [
       "  0%|          | 0/12916 [00:00<?, ?it/s]"
      ]
     },
     "metadata": {},
     "output_type": "display_data"
    },
    {
     "name": "stdout",
     "output_type": "stream",
     "text": [
      "The time elapse of epoch 007 is: 00: 02: 13\n",
      "HR: 0.352\tNDCG: 0.131\n",
      "##### EPOCH 9 #####\n"
     ]
    },
    {
     "data": {
      "application/vnd.jupyter.widget-view+json": {
       "model_id": "5e0e64eb23b5448a8432816f38662b67",
       "version_major": 2,
       "version_minor": 0
      },
      "text/plain": [
       "  0%|          | 0/12916 [00:00<?, ?it/s]"
      ]
     },
     "metadata": {},
     "output_type": "display_data"
    },
    {
     "name": "stdout",
     "output_type": "stream",
     "text": [
      "The time elapse of epoch 008 is: 00: 02: 04\n",
      "HR: 0.354\tNDCG: 0.132\n",
      "##### EPOCH 10 #####\n"
     ]
    },
    {
     "data": {
      "application/vnd.jupyter.widget-view+json": {
       "model_id": "14dd80b0dad549c987c029426e4176db",
       "version_major": 2,
       "version_minor": 0
      },
      "text/plain": [
       "  0%|          | 0/12916 [00:00<?, ?it/s]"
      ]
     },
     "metadata": {},
     "output_type": "display_data"
    },
    {
     "name": "stdout",
     "output_type": "stream",
     "text": [
      "The time elapse of epoch 009 is: 00: 02: 06\n",
      "HR: 0.354\tNDCG: 0.131\n",
      "End. Best epoch 008: HR = 0.354, NDCG = 0.132\n"
     ]
    }
   ],
   "source": [
    "learning_rate = 0.001\n",
    "loss_fn = nn.BCELoss()\n",
    "optimizer = torch.optim.Adam(model.parameters(), lr=learning_rate)\n",
    "\n",
    "from tqdm.auto import tqdm\n",
    "\n",
    "size = len(train_dataloader.dataset)\n",
    "count, best_hr = 0, 0\n",
    "top_k= 30\n",
    "\n",
    "for epoch in range(10):\n",
    "    print('##### EPOCH {} #####'.format(epoch + 1))\n",
    "\n",
    "    model.train()  # Enable dropout (if have).\n",
    "    start_time = time.time()\n",
    "\n",
    "    for batch, (user, item, label) in enumerate(tqdm(train_dataloader)):\n",
    "        user = user.to(device)\n",
    "        item = item.to(device)\n",
    "        label = label.to(device)\n",
    "\n",
    "        # gradient 초기화\n",
    "        model.zero_grad()\n",
    "        prediction = model(user, item)\n",
    "        loss = loss_fn(prediction.to(torch.float32), label.to(torch.float32))\n",
    "        loss.backward()\n",
    "        optimizer.step()\n",
    "        count += 1\n",
    "\n",
    "    model.eval()\n",
    "    HR, NDCG = metrics(model, test_dataloader, top_k)\n",
    "\n",
    "    elapsed_time = time.time() - start_time\n",
    "\n",
    "    print(\n",
    "        \"The time elapse of epoch {:03d}\".format(epoch)\n",
    "        + \" is: \"\n",
    "        + time.strftime(\"%H: %M: %S\", time.gmtime(elapsed_time))\n",
    "    )\n",
    "    print(\"HR: {:.3f}\\tNDCG: {:.3f}\".format(np.mean(HR), np.mean(NDCG)))\n",
    "\n",
    "    if HR > best_hr:\n",
    "        best_hr, best_ndcg, best_epoch = HR, NDCG, epoch\n",
    "\n",
    "print(\n",
    "    \"End. Best epoch {:03d}: HR = {:.3f}, NDCG = {:.3f}\".format(\n",
    "        best_epoch, best_hr, best_ndcg\n",
    "    )\n",
    ")"
   ]
  },
  {
   "cell_type": "code",
   "execution_count": null,
   "metadata": {},
   "outputs": [],
   "source": []
  },
  {
   "cell_type": "code",
   "execution_count": null,
   "metadata": {},
   "outputs": [],
   "source": []
  }
 ],
 "metadata": {
  "kernelspec": {
   "display_name": "base",
   "language": "python",
   "name": "python3"
  },
  "language_info": {
   "codemirror_mode": {
    "name": "ipython",
    "version": 3
   },
   "file_extension": ".py",
   "mimetype": "text/x-python",
   "name": "python",
   "nbconvert_exporter": "python",
   "pygments_lexer": "ipython3",
   "version": "3.11.5"
  }
 },
 "nbformat": 4,
 "nbformat_minor": 2
}
